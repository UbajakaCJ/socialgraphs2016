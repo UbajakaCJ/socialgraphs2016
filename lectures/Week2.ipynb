{
 "cells": [
  {
   "cell_type": "markdown",
   "metadata": {},
   "source": [
    "# Overview\n",
    "\n",
    "This week is about getting familiar with networks, and we'll focus on four main elements\n",
    "\n",
    "* Basic mathematical description of networks\n",
    "* The `NetworkX` library \n",
    "* Matplotlib, binning, and plotting degree distributions\n",
    "* Random networks"
   ]
  },
  {
   "cell_type": "markdown",
   "metadata": {},
   "source": [
    "# Part 1: Basic mathematical description of networks\n",
    "\n",
    "This week, let's start with some lecturing. I love networks, so I'll take some time time today to tell you about them.\n",
    "\n",
    "> **_Video Lecture_**. Start by watching the \"History of Networks\". \n"
   ]
  },
  {
   "cell_type": "code",
   "execution_count": null,
   "metadata": {
    "collapsed": true
   },
   "outputs": [],
   "source": [
    "from IPython.display import YouTubeVideo\n",
    "YouTubeVideo(\"yC754EgHpck\",width=600, height=337.5)"
   ]
  },
  {
   "cell_type": "markdown",
   "metadata": {},
   "source": [
    "> **_Video Lecture_**. Then check out a few comments on \"Network Notation\". "
   ]
  },
  {
   "cell_type": "code",
   "execution_count": null,
   "metadata": {
    "collapsed": true
   },
   "outputs": [],
   "source": [
    "YouTubeVideo(\"yC754EgHpck\",width=600, height=337.5)"
   ]
  },
  {
   "cell_type": "markdown",
   "metadata": {},
   "source": [
    "> _Reading_. We'll be reading the textbook _Network Science_ (NS) by Laszlo Barabasi. You can download the whole \n",
    "> thing for free [**here**](http://barabasi.com/networksciencebook/). You can also [download all chapters as a single file](https://www.dropbox.com/s/j1jy86lznz6sz1e/book.pdf?dl=0)\n",
    "> \n",
    "> * Read chapter 1\\.\n",
    "> * Read chapter 2\\.\n",
    "> "
   ]
  },
  {
   "cell_type": "markdown",
   "metadata": {},
   "source": [
    "> _Exercises_  \n",
    "> _Chapter 1_ (Don't forget that you should be answering these in an IPython notebook.) \n",
    "> \n",
    "> * List three different real networks and state the nodes and links for each of them.\n",
    "> * Tell us of the network you are personally most interested in. Address the following questions:\n",
    ">   * What are its nodes and links? \n",
    ">   * How large is it? \n",
    ">   * Can be mapped out? \n",
    ">   * Why do you care about it? \n",
    "> * In your view what would be the area where network science could have the biggest impact in the next decade? Explain your answer - and base it on the text in the book. \n",
    "> \n",
    "> _Chapter 2_\n",
    "> \n",
    "> * Section 2.5 states that real networks are sparse. Can you think of a real network where each node has _many_ connections? Is that network still sparse? If yes, can you explain why?\n",
    "> \n",
    "> There are more questions on Chapter 2 below.\n",
    "> "
   ]
  },
  {
   "cell_type": "markdown",
   "metadata": {},
   "source": [
    "# Part 2: The awesome `NetworkX` library\n",
    "\n",
    "`NetworkX` should already be installed as part of your _Anaconda_ Python distribution. But you don't know how to use it yet. The best way to get familiar is to work through a tutorial. That's what the next exercise is about\n",
    "\n",
    "> _Exercises_:\n",
    "> \n",
    "> * Go to the `NetworkX` project's [tutorial page](http://networkx.readthedocs.org/en/stable/tutorial/). The goal of this exercise is to create your own `notebook` that contains the entire tutorial. You're free to add your own (e.g. shorter) comments in place of the ones in the official tutorial - and change the code to make it your own where ever it makes sense. (There is an error in the tutorial about accessing edges. Can you find it, and solve the problem?)\n",
    "> * Write the solution exercise **2.1** from NS in your `notebook`.\n",
    "> * Solve exercise **2.3** from NS using `NetworkX` in your `notebook`.\n",
    "> * Solve exercise **2.5** from NS using `NetworkX` in your `notebook`.\n",
    "> "
   ]
  },
  {
   "cell_type": "markdown",
   "metadata": {},
   "source": [
    "> **_Video Lecture_**: Once again, it's time to stop working for a couple of minutes to hear me talk about plotting with `NetworkX`. \n",
    "> "
   ]
  },
  {
   "cell_type": "code",
   "execution_count": null,
   "metadata": {
    "collapsed": true
   },
   "outputs": [],
   "source": [
    "YouTubeVideo(\"yC754EgHpck\",width=600, height=337.5)"
   ]
  },
  {
   "cell_type": "markdown",
   "metadata": {},
   "source": [
    "# Part 3: Plotting degree distributions\n",
    "\n",
    "As always we'll learn about degree-distribution plotting by creating a `notebook` and trying it out. \n",
    "> \n",
    "> _Exercises_:\n",
    "> \n",
    "> Begin by importing the right packages. Start by importing `matplolib.pyplot` (for plotting), `numpy` (for binning and other stuff), \n",
    "> `random` (for generating random numbers), and `networkx` (for generating networks.)\n",
    "> \n",
    "> * Binning real numbers\n",
    ">   * Let's do a gentle start and use the `random` library generate 5000 data points from a Gaussian distribution with $\\mu = 2$ and $\\sigma = 0.125$.\n",
    ">   * Now, let's use `numpy.histogram` to bin those number into 10 bins. What does the `numpy.histogram` function return? Do the two arrays have the same length?\n",
    ">   * Then we use `matplotlib.pyplot.plot` to plot the binned data. You will have to deal with the fact that the counts- and bin-arrays have different lengths. Explain how you deal with this problem and why.\n",
    "> * Binning integers\n",
    ">   * But binning real numbers into a fixed number of bins is easy when `numpy.histogram` does all the work and finds the right bin boundaries for you. \n",
    "> Now we'll generate a bunch of integers and set the bin boundaries manually. This time, let's grab data from a Poisson distribution. As it turns out \n",
    "> `numpy` also has some convenient random number generators. Use `numpy.random.poission` to generate 5000 numbers drawn from a Poisson distribution \n",
    "> characterized by $\\lambda = 10$. Find the maximum and minimum value of your 5000 random numbers. \n",
    ">   * Instead of simplify specifying the number of bins for `numpy.histogram`, let's specify the bins we want using a vector. Create a vector \n",
    "> that results in a binning that puts each integer value in its own bin and where the first bin contains the minimum number you found above, \n",
    "> and the last bin contains the maximum number. What is the sum over bin counts? Explain how the binning-vectors first and last element \n",
    "> relates to the min and max from the Poisson distribution.\n",
    ">   * Now, use a bar chart (`matplotlib.pyplot.bar`) to plot the distribution \n",
    "> * Binning and plotting degree distributions. \n",
    ">   * Let's generate the Erdös-Renyi (ER) network which has a degree distribution that matches the Poisson distribution above. \n",
    "> First we have to figure out which values the ER parameters (_N_ and _p_) should assume. It's easy to see that $N = 5000$, but how do you find $p$? \n",
    "> **Hint**: The parameter $\\lambda$ in the Poisson distribution corresponds to the average degree, so you have to find a $p$ that results in an average \n",
    "> degree, $k = 10$. And you know that $\\langle k \\rangle = p (N-1)$, which will give you $p$. Note that Python by default returns the result of divisions as the most precise of the datatypes involved (for instance, try computing `1/2` and `1.0/2.0` in your notebook). If you want division to always give you a decimal number, you can enter `from __future__ import division` at the beginning of your notebook.\n",
    ">   * Now, use `networkx` to create the graph and extract the degree distribution.\n",
    ">   * Finally, create a nice bar plot of the degree distribution, including axes labels and a plot title. Make sure that it looks like the Poisson distribution you plotted above.\n",
    "> "
   ]
  },
  {
   "cell_type": "markdown",
   "metadata": {},
   "source": [
    "# Part 4: Random networks\n",
    "\n",
    "> **_Video Lecture_**. Now it's time to relax and watch a few minutes of info on _Random Networks_. "
   ]
  },
  {
   "cell_type": "code",
   "execution_count": null,
   "metadata": {
    "collapsed": true
   },
   "outputs": [],
   "source": [
    "YouTubeVideo(\"yC754EgHpck\",width=600, height=337.5)"
   ]
  },
  {
   "cell_type": "markdown",
   "metadata": {},
   "source": [
    "> _Reading_. Read page (1-10) of Chapter 3 of _Network Science_. You can download the entire book [**here**](http://barabasi.com/networksciencebook/).\n"
   ]
  },
  {
   "cell_type": "markdown",
   "metadata": {},
   "source": [
    "> _Exercises_ (should be completed in a `notebook`):\n",
    "> \n",
    "> * Work through NS exercise 3.1\\.\n",
    "> * Work through NS exercise 3.2\\.\n",
    "> * Paths. Plot a random network with 200 nodes and an average degree of 1.5\\. (I suggest using `networkx.draw` and reading [the documentation](https://networkx.github.io/documentation/latest/reference/generated/networkx.drawing.nx_pylab.draw_networkx.html \"Link: https://networkx.github.io/documentation/latest/reference/generated/networkx.drawing.nx_pylab.draw_networkx.html\") carefully to get an overview of all the options and what they look like. For example, you may want to shrink the node size).\n",
    ">   * Extract the Giant Connected Component, GCC. (Hint. You can use `networkx.connected_component_subgraphs`)\n",
    ">   * Choose a node at random from the GCC. (Hint: You may want to try `random.choice`.)\n",
    ">   * Find all nodes that are precisely 2 steps away from that node. (Hint. I suggest `networkx.single_source_shortest_path_length`)\n",
    ">   * Plot the GCC with the following choice of colors. Starting node _black_ (`\"#000000\"`). The nodes 2 steps away _red_ (`\"#ff0000\"`). All other nodes _blue_ (`\"#A0CBE2\"`). Again, I suggest using `networkx.draw` and reading [the documentation](https://networkx.github.io/documentation/latest/reference/generated/networkx.drawing.nx_pylab.draw_networkx.html) carefully find out how to color individual nodes.\n",
    "> \n",
    "\n",
    "![Sune's Network](https://raw.githubusercontent.com/suneman/socialgraphs2016/master/files/edge_colormap.png)"
   ]
  },
  {
   "cell_type": "code",
   "execution_count": null,
   "metadata": {
    "collapsed": true
   },
   "outputs": [],
   "source": []
  }
 ],
 "metadata": {
  "kernelspec": {
   "display_name": "Python 2",
   "language": "python",
   "name": "python2"
  },
  "language_info": {
   "codemirror_mode": {
    "name": "ipython",
    "version": 2
   },
   "file_extension": ".py",
   "mimetype": "text/x-python",
   "name": "python",
   "nbconvert_exporter": "python",
   "pygments_lexer": "ipython2",
   "version": "2.7.11"
  }
 },
 "nbformat": 4,
 "nbformat_minor": 0
}
