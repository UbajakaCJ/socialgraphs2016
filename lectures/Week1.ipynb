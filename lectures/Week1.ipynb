{
 "cells": [
  {
   "cell_type": "markdown",
   "metadata": {},
   "source": [
    "# Week 1\n",
    "\n",
    "## Overview\n",
    "\n",
    "Welcome to the _Social Data Analysis and Visualization_ course.\n",
    "\n",
    "Each week of this class is an IPython notebook like this one. **_In order to successfully follow the class, you simply start reading from the top_**, following the instructions. As you read, you will encounter three things that should cause you to take break from reading or sometimes leave the page for a little bit:\n",
    "\n",
    "* Instructions to go **check out a video lecture**.\n",
    "* Instructions to **read something** (I don't use a single textbook, so will make sure to link to a the relevant text).\n",
    "* Instructions to **solve a few exercises**. Ideally you should solve the exercises on your own, but work on and discuss the problems as part of a 3 person group. Exercises should be carried out within an IPython notebook (explained below). The exercises are the most important part of the class. It is through the exercises that you will learn the course material, and because the exercises lay the foundations for the two mandatory course assignment (due after week 4 and week 8). "
   ]
  },
  {
   "cell_type": "markdown",
   "metadata": {
    "collapsed": true
   },
   "source": [
    "## Today\n",
    "\n",
    "This first lecture will go over a few different topics to get you started \n",
    "\n",
    "* First, I'll talk a little bit about \"how we do things\", which might be a little bit different from what you've tried previously.\n",
    "* Second, I'll help you get your system in shape for all the Python programming we'll do later on.\n",
    "* Third, we'll make sure that you remember how to code in Python.\n",
    "* Fourth, I'll explain a little bit about what we'll be doing this year (hint, you may want to watch _Minority Report_ if you want to prepare deeply for the class).\n",
    "* And finally, we'll get started working with the book."
   ]
  },
  {
   "cell_type": "markdown",
   "metadata": {},
   "source": [
    "## Part 1: How we do things\n",
    "\n",
    "> **_Video lecture_**: Start by watching the \"[How we do things](https://www.youtube.com/watch?v=NHr6Jzy9q_A)\" video below. The video explains the pedagogical aspects of how the class works.\n",
    "> "
   ]
  },
  {
   "cell_type": "code",
   "execution_count": 1,
   "metadata": {
    "collapsed": false
   },
   "outputs": [
    {
     "data": {
      "text/html": [
       "\n",
       "        <iframe\n",
       "            width=\"800\"\n",
       "            height=\"450\"\n",
       "            src=\"https://www.youtube.com/embed/NHr6Jzy9q_A\"\n",
       "            frameborder=\"0\"\n",
       "            allowfullscreen\n",
       "        ></iframe>\n",
       "        "
      ],
      "text/plain": [
       "<IPython.lib.display.YouTubeVideo at 0x103faf590>"
      ]
     },
     "execution_count": 1,
     "metadata": {},
     "output_type": "execute_result"
    }
   ],
   "source": [
    "from IPython.display import YouTubeVideo\n",
    "YouTubeVideo(\"NHr6Jzy9q_A\",width=800, height=450)"
   ]
  },
  {
   "cell_type": "markdown",
   "metadata": {},
   "source": [
    "## Part 2: Installing Python\n",
    "\n",
    "Now it's time to install Python. The most important thing to know before you begin is that we use python 2.7, **so DO NOT install Python 3\\.** \n",
    "\n",
    "* We recommend you use the _Anaconda distribution_ of Python. You can download it [**here**](https://store.continuum.io/cshop/anaconda/).\n",
    "* Once Anaconda is installed, install `jupyter` by typing  \n",
    "`>> conda install jupyter`  \n",
    "and  \n",
    "`>> conda install notebook`  \n",
    "at your command prompt.\n",
    "* You start up the notebook system by typing \"`jupyter notebook`\" and your terminal, and the system should be ready to use in your favorite browser. \n",
    "* Be sure to check the keyboards shortcuts under the heading of \"Help\" where you will find for instance shortcut to code-completion (Tab) and tooltip with documentation (Shift-Tab) which will save you a ton of time.  \n",
    "\n",
    "Part 3 will teach you how to use the IPython Notebook. Note that if you want to use another Python distribution, that's fine, but we cannot promise to help you with anything other than Anaconda. "
   ]
  },
  {
   "cell_type": "markdown",
   "metadata": {},
   "source": [
    "## Part 3: Simple Python exercises\n",
    "\n",
    "> **_Video lecture_**: You get started on this part by watching the \"IPython Notebook\" video below. "
   ]
  },
  {
   "cell_type": "code",
   "execution_count": 2,
   "metadata": {
    "collapsed": false,
    "scrolled": true
   },
   "outputs": [
    {
     "data": {
      "text/html": [
       "\n",
       "        <iframe\n",
       "            width=\"600\"\n",
       "            height=\"337.5\"\n",
       "            src=\"https://www.youtube.com/embed/yC754EgHpck\"\n",
       "            frameborder=\"0\"\n",
       "            allowfullscreen\n",
       "        ></iframe>\n",
       "        "
      ],
      "text/plain": [
       "<IPython.lib.display.YouTubeVideo at 0x103faf390>"
      ]
     },
     "execution_count": 2,
     "metadata": {},
     "output_type": "execute_result"
    }
   ],
   "source": [
    "YouTubeVideo(\"yC754EgHpck\",width=600, height=337.5)"
   ]
  },
  {
   "cell_type": "markdown",
   "metadata": {},
   "source": [
    "Oh, and I forgot a few important things when I made this video last year, so here are some additional tips & tricks on IPython."
   ]
  },
  {
   "cell_type": "code",
   "execution_count": 3,
   "metadata": {
    "collapsed": false
   },
   "outputs": [
    {
     "data": {
      "text/html": [
       "\n",
       "        <iframe\n",
       "            width=\"600\"\n",
       "            height=\"337.5\"\n",
       "            src=\"https://www.youtube.com/embed/NDZyU_NlX0I\"\n",
       "            frameborder=\"0\"\n",
       "            allowfullscreen\n",
       "        ></iframe>\n",
       "        "
      ],
      "text/plain": [
       "<IPython.lib.display.YouTubeVideo at 0x103fafad0>"
      ]
     },
     "execution_count": 3,
     "metadata": {},
     "output_type": "execute_result"
    }
   ],
   "source": [
    "YouTubeVideo(\"NDZyU_NlX0I\",width=600, height=337.5)"
   ]
  },
  {
   "cell_type": "markdown",
   "metadata": {},
   "source": [
    "> _Exercises_\n",
    "> \n",
    "> * Download the IPython file that I've prepared for you and save it somewhere where you can find it again. The link is [**here**](https://dl.dropboxusercontent.com/u/153071/02805/Training_notebook.ipynb). (**Hint**: Be careful not to save this in _.txt_ format - make sure the extension is _.ipynb_.)\n",
    "> * Work through exercise 1-9 in the file, solving the simple Python exercises in there. Also use this as a chance to become familiar with how the IPython notebook works. (And a little bit of `json`). "
   ]
  },
  {
   "cell_type": "markdown",
   "metadata": {},
   "source": [
    "### STOP: Super important notice\n",
    "\n",
    "Now that you've completed working through the IPython notebook, it's time for the moment of truth! If you had great difficulty with the Python coding itself, you're going to be in trouble. Everything we do going forward in this class will depend on you being comfortable with Python. There is simply **no way** that you will be able to do well, if you're also struggling with Python on top of everything else you'll be learning.\n",
    "\n",
    "**So if you're not 100% comfortable with Python, I recommend you stop right now, and follow [Code Academy's excellent short course on Python programming](https://www.codecademy.com/en/tracks/python) before proceeding**. This might seem tough, but the ability to program is a prerequisite for this class, and if you know how to program, you should be able to handle the Python questions above.`"
   ]
  },
  {
   "cell_type": "markdown",
   "metadata": {},
   "source": [
    "## Part 4: What the course is about!\n",
    "\n",
    "Oh, and maybe I should also tell you guys what the course is about. A while ago, I was surfing the internet and I found this video"
   ]
  },
  {
   "cell_type": "code",
   "execution_count": 4,
   "metadata": {
    "collapsed": false
   },
   "outputs": [
    {
     "data": {
      "text/html": [
       "\n",
       "        <iframe\n",
       "            width=\"800\"\n",
       "            height=\"450\"\n",
       "            src=\"https://www.youtube.com/embed/_xsffIAHY3I\"\n",
       "            frameborder=\"0\"\n",
       "            allowfullscreen\n",
       "        ></iframe>\n",
       "        "
      ],
      "text/plain": [
       "<IPython.lib.display.YouTubeVideo at 0x103faf490>"
      ]
     },
     "execution_count": 4,
     "metadata": {},
     "output_type": "execute_result"
    }
   ],
   "source": [
    "YouTubeVideo(\"_xsffIAHY3I\",width=800, height=450)"
   ]
  },
  {
   "cell_type": "markdown",
   "metadata": {},
   "source": [
    "Other than being hilarious (and reminding me of the TVshow [_numb3rs_](<https://en.wikipedia.org/wiki/Numbers_(TV_series%29) which I used to enjoy back in the day ... get a taste [here](https://www.youtube.com/watch?v=y4xRIrnanuo)), the video made me think about how easy/difficult it would be to analyze crime data, make predictions, etc. I actually wrote the Copenhagen police to see if we could get geo-located crime statistics and help fight crime here in Copenhagen, but they sadly did not want our help.\n",
    "\n",
    "Luckily there's lots of other data available, so in the coming weeks, we'll be trying to understand crime in San Francisco instead. We'll base our work on data from the awesome project\n",
    "\n",
    "> [SF OpenData](https://data.sfgov.org)\n",
    "\n",
    "Specifically looking into SFPD incidents which have been recorded back since January 2003."
   ]
  },
  {
   "cell_type": "markdown",
   "metadata": {},
   "source": [
    "# Part 5: Start reading the book\n",
    "\n",
    "> _Reading_: Take a look at _Data Science from Scratch_, Chapter 1-3. Chapter 1 is just an introduction, Chapter 2 gives you a super-quick introduction to Python, and Chapter 3 is about plotting data. All this is about Python, so if you're already good at working with Python you'll have an easy day today. But if you're not, this is another reminder to get on top of your Python game (if in doubt, go back to Part 3, and re-read the _super important notice_."
   ]
  },
  {
   "cell_type": "markdown",
   "metadata": {},
   "source": [
    "> _Exercises_\n",
    ">\n",
    "> * Chapter 1: Answer these simple questions to show that you have read the text\n",
    ">  - Q1. Describe in your own words Joel's approach to finding key connectors.\n",
    ">  - Q2. What is the meaning of node-size in Figure 1-2?\n",
    "> * Chapter 2: Answer these simple questions in to show that you have read the text\n",
    ">  - Q1. In one line of text, what is the point of Python modules?\n",
    ">  - Q2. Why does Joel use `from __future__ import division`?\n",
    ">  - Q3. How are tuples different from lists?\n",
    ">  - Q4. Describe in your own words the purpose of generators.\n",
    "> * Chapter 3: Carry out these simple exercises & answer a few simple questions in to show that you have read the text\n",
    ">  - Q1. Create your own version of Figure 3-1, but change the values, axes-labels, and the plot title. Just add the plot to the bottom of the notebook you've already been working for Part 3 of today's lecture.\n",
    ">  - Q2. Create your own version of Figure 3-2, but change the values, axes-labels, and the plot title. Just add the plot to the bottom of the notebook you've already been working for Part 3 of today's lecture.\n",
    ">  - Q3. What's the problem with the plot in Figure 3-4? Use Google (or your memory) find an example of this type of abuse on the internet and include it in your Notebook.\n",
    ">  - Q4. Create your own version of Figure 3-9 and add to the notebook. Explain in your own words why 3-9 is a better representation of the data than 3-8."
   ]
  }
 ],
 "metadata": {
  "kernelspec": {
   "display_name": "Python 2",
   "language": "python",
   "name": "python2"
  },
  "language_info": {
   "codemirror_mode": {
    "name": "ipython",
    "version": 2
   },
   "file_extension": ".py",
   "mimetype": "text/x-python",
   "name": "python",
   "nbconvert_exporter": "python",
   "pygments_lexer": "ipython2",
   "version": "2.7.11"
  }
 },
 "nbformat": 4,
 "nbformat_minor": 0
}
