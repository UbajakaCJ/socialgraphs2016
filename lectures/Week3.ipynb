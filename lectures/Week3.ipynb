{
 "cells": [
  {
   "cell_type": "markdown",
   "metadata": {},
   "source": [
    "# Overview\n",
    "\n",
    "This week we'll get started on modern network science. We'll focus on two key results that kick-started a revolution in our understanding of networks.\n",
    "\n",
    "* Problems with random networks as models for real networks and the Watts-Strogatz model\n",
    "* Scale-free networks and the Barabasi-Albert model"
   ]
  },
  {
   "cell_type": "markdown",
   "metadata": {
    "collapsed": true
   },
   "source": [
    "## Part 1: Small world networks\n",
    "\n",
    "Once again, we'll start with some lecturing. So it's time to watch a little video to get you started.\n",
    "\n",
    "> **_Video Lecture_**: Some properties of real world networks. Clustering and small paths. The Watts-Strogatz model. \n",
    "> "
   ]
  },
  {
   "cell_type": "code",
   "execution_count": 1,
   "metadata": {
    "collapsed": false
   },
   "outputs": [
    {
     "data": {
      "image/jpeg": "[encoded data removed]",
      "text/html": [
       "\n",
       "        <iframe\n",
       "            width=\"800\"\n",
       "            height=\"450\"\n",
       "            src=\"https://www.youtube.com/embed/tMLJ2NYI1FU\"\n",
       "            frameborder=\"0\"\n",
       "            allowfullscreen\n",
       "        ></iframe>\n",
       "        "
      ],
      "text/plain": [
       "<IPython.lib.display.YouTubeVideo at 0x106907d50>"
      ]
     },
     "execution_count": 1,
     "metadata": {},
     "output_type": "execute_result"
    }
   ],
   "source": [
    "from IPython.display import YouTubeVideo\n",
    "YouTubeVideo(\"tMLJ2NYI1FU\",width=800, height=450)"
   ]
  },
  {
   "cell_type": "markdown",
   "metadata": {},
   "source": [
    "Next up is fun with reading the textbook. There's lots of goodies left in Chapter 3 that covers the stuff I've just covered in the video from a slightly different angle. \n",
    "> \n",
    "> _Reading_: For this part, we'll read the remaining part of _Network Science_ Chapter 3, Section 3.5 - 3.10, with ***emphasis*** on 3.8 and 3.9\\.\n",
    "> \n"
   ]
  },
  {
   "cell_type": "markdown",
   "metadata": {},
   "source": [
    "> _Exercises_: Did you really read the text? Answer the following questions (no calculations needed) in your IPython notebook. \n",
    "> \n",
    "> * What's the problem with random networks as a model for real-world networks according to the argument on p. 11-12?\n",
    "> * List the four regimes that characterize random networks as a function of $\\langle k \\rangle$.\n",
    "> * According to the book, why is it a problem for random networks (in terms of being a model for real-world networks) that the degree-dependent clustering $C(k)$ decreases as a function of $k$ in real-world networks?\n",
    "> "
   ]
  },
  {
   "cell_type": "markdown",
   "metadata": {},
   "source": [
    "The next set of exercises departs from the book by presenting a little study of the Watts-Strogatz (WS) model. We're going to see just how few random links the WS model needs to dramatically shorten the path-lengths in the network. And while doing that, we'll practice using `networkx`, writing loops, and plotting nice figures.\n",
    "\n",
    "> _Exercises_: WS edition.\n",
    "> \n",
    "> * First, let's use `networkx` to play around with WS graphs. Use `nx.watts_strogatz_graph` to generate 3 graphs with 500 nodes each, average degree = 4, and rewiring probablity $p = 0, 0.1, \\textrm{and} 1$. Calculate the average shortest path length $\\langle d \\rangle$ for each one. Describe what happens to the network when $p = 1$.\n",
    "> * Play around with $p$. What's the value of $p$ for which the average shortest path length gets close to the fully randomized version. \n",
    "> * Let's investigate this behavior in detail. Generate 50 networks with $N = 500$, $\\langle k \\rangle = 4$, for each of $p = \\{0, 0.01, 0.03, 0.05, 0.1, 0.2\\}$. Calculate the average of $\\langle d \\rangle$ as well as the standard deviation over the 50 networks, to create a plot that shows how the path length decreases very quickly with only a little fraction of re-wiring. Use the standard deviation to add [errorbars](http://matplotlib.org/1.2.1/examples/pylab_examples/errorbar_demo.html \"Link: http://matplotlib.org/1.2.1/examples/pylab_examples/errorbar_demo.html\") to the plot. My version of the plot is below (since a picture's worth 1000 words).\n",
    "> \n",
    "\n",
    "![Sune's version](https://raw.githubusercontent.com/suneman/socialgraphs2016/master/files/ws.png)"
   ]
  },
  {
   "cell_type": "markdown",
   "metadata": {},
   "source": [
    "## Part 2: Scale-free networks\n",
    "\n",
    "The text book uses two whole chapters on the scale free property. We'll try and power through during the remainder of this lecture. As always, let's start by getting my take on the whole thing.\n",
    "\n",
    "> **_Video Lecture_**: The scale free property and the Barabasi-Albert Model. Direct link [**here**](https://dtu.coursera.org/02805-001/lecture/25).\n",
    "> "
   ]
  },
  {
   "cell_type": "code",
   "execution_count": 2,
   "metadata": {
    "collapsed": false
   },
   "outputs": [
    {
     "data": {
      "image/jpeg": "[encoded data removed]",
      "text/html": [
       "\n",
       "        <iframe\n",
       "            width=\"800\"\n",
       "            height=\"450\"\n",
       "            src=\"https://www.youtube.com/embed/myLgzbXxhOQ\"\n",
       "            frameborder=\"0\"\n",
       "            allowfullscreen\n",
       "        ></iframe>\n",
       "        "
      ],
      "text/plain": [
       "<IPython.lib.display.YouTubeVideo at 0x106907c90>"
      ]
     },
     "execution_count": 2,
     "metadata": {},
     "output_type": "execute_result"
    }
   ],
   "source": [
    "YouTubeVideo(\"myLgzbXxhOQ\",width=800, height=450)"
   ]
  },
  {
   "cell_type": "markdown",
   "metadata": {},
   "source": [
    "And now it's time for you guys to read. Recall that Barabasi (who wrote the textbook) discovered power-laws.\n",
    "\n",
    "> _Reading_: Now we dig into the extended history and and theory behind Scale-Free networks and the Barabasi-Albert Model.\n",
    "> \n",
    "> * Chapter 4, Section 4.1 - 4.7\\.\n",
    "> * Chapter 5, section 5.1 - 5.5\\.\n",
    "> "
   ]
  },
  {
   "cell_type": "markdown",
   "metadata": {},
   "source": [
    "> _Exercises_: BA edition.\n",
    "> \n",
    "> First a couple of questions to make sure that you've actually read the text.\n",
    "> \n",
    "> * What are the three slope dependent regimes of complex networks with power-law degree distributions? Briefly describe each one.\n",
    "> * What are the three regimes we find in non-linear preferential attachement? (chapter 5) Briefly describe each one.\n",
    "> \n",
    "> We're going to create our own Barabasi-Albert model (a special case) in right in a `notebook`. Follow the recipe below for success\n",
    "> \n",
    "> * First create a graph consisting of a single link. (You can call the nodes anything, but I would simply use integers as names).\n",
    "> * Now add another node, connecting one of the existing nodes in proportion to their degree.\n",
    "> * Keep going until you have a 100 node network.\n",
    ">   * _Hint_: The difficult part here is connecting to each node according to their degree. The way I do it is: generate a list of all edges (e.g. pairs of nodes), then flatten it (e.g. remove connection information). That list contains each node in proportion to its connections, thus drawing a random node from that list (e.g. using `random.choice`) corresponds to selecting a node with probability proportional to it's degree.\n",
    "> * Plot the network. \n",
    "> * Add more nodes until you have a 5000 node network.\n",
    "> * What's the maximum and minimum degree?\n",
    "> * Now, bin the degree distribution using `numpy.histogram`.\n",
    "> * Plot the distribution. Plot it with both linear and log-log axes.\n",
    "> \n",
    "> ![Sune's version](https://raw.githubusercontent.com/suneman/socialgraphs2016/master/files/ba.png)\n",
    "> \n",
    "> Next step is to explore the [Friendship paradox](https://en.wikipedia.org/wiki/Friendship_paradox). This paradox states that _almost everyone_ have fewer friends than their friends have, on average\\*. This sounds crazy, but is actually an almost trivial consequence of living in a social network with a power-law degree distribution. The explanation is that almost everyone is friends with a hub, that drives up the average degree of the friends. Let's explore that in the 5000 node BA network we've just generated. Do the following:\n",
    "> \n",
    "> * Pick a node $i$ at random (e.g. use `random.choice`). [Find its degree](http://networkx.lanl.gov/reference/generated/networkx.Graph.degree.html).\n",
    "> * Find $i$'s [neighbors](http://networkx.lanl.gov/reference/generated/networkx.Graph.neighbors.html). And calculate their average degree.\n",
    "> * Compare the two numbers to check if it's true that $i$'s friends (on average) have more friends than $i$.\n",
    "> * Do this 1000 times. How many out of those 1000 times is the friendship paradox true?\n",
    "> \n",
    "> Finally, we'll build a network of same size and degree, using the growth mechanism without the preferential attachment. \n",
    "> \n",
    "> * Compare to the ER network of same size and same _p_. What are the differences? Explain in your own words. _Hint_: To get started, take a look at the degree distribution, and study the number of connected components.\n",
    ">"
   ]
  },
  {
   "cell_type": "code",
   "execution_count": null,
   "metadata": {
    "collapsed": true
   },
   "outputs": [],
   "source": []
  }
 ],
 "metadata": {
  "anaconda-cloud": {},
  "kernelspec": {
   "display_name": "Python [default]",
   "language": "python",
   "name": "python2"
  },
  "language_info": {
   "codemirror_mode": {
    "name": "ipython",
    "version": 2
   },
   "file_extension": ".py",
   "mimetype": "text/x-python",
   "name": "python",
   "nbconvert_exporter": "python",
   "pygments_lexer": "ipython2",
   "version": "2.7.12"
  }
 },
 "nbformat": 4,
 "nbformat_minor": 0
}
